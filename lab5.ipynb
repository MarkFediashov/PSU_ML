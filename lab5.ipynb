{
 "cells": [
  {
   "cell_type": "code",
   "execution_count": 23,
   "metadata": {
    "collapsed": true
   },
   "outputs": [
    {
     "data": {
      "text/plain": "                Id          Код     Возраст  Среднемесячный расход  \\\ncount  4291.000000  4291.000000  4291.00000            4291.000000   \nmean   2245.500117  2294.633419    42.40247             482.358730   \nstd    1298.521946  1326.912675    13.03878             637.367273   \nmin       0.000000     0.000000    19.00000               3.180000   \n25%    1121.500000  1146.500000    32.00000             147.270000   \n50%    2242.000000  2293.000000    43.00000             306.300000   \n75%    3372.500000  3447.500000    53.00000             568.355000   \nmax    4491.000000  4590.000000    70.00000            5142.760000   \n\n       Средняя продолжительность разговоров  Звонков днем за месяц  \\\ncount                           4291.000000            4291.000000   \nmean                               4.091599              61.758098   \nstd                                2.902686              61.526928   \nmin                                0.100000               1.000000   \n25%                                2.000000              36.000000   \n50%                                3.200000              53.000000   \n75%                                5.600000              67.000000   \nmax                               20.000000             500.000000   \n\n       Звонков вечером за месяц  Звонков ночью за месяц  \\\ncount               4291.000000             4291.000000   \nmean                  68.935912                4.637148   \nstd                   40.960807               11.228814   \nmin                    1.000000                0.000000   \n25%                   41.000000                0.000000   \n50%                   70.000000                1.000000   \n75%                   96.000000                4.000000   \nmax                  160.000000              109.000000   \n\n       Звонки в другие города  Звонки в другие страны  \\\ncount             4291.000000             4291.000000   \nmean                 8.467723                0.382195   \nstd                 13.409389                1.138764   \nmin                  0.000000                0.000000   \n25%                  0.000000                0.000000   \n50%                  1.000000                0.000000   \n75%                 11.000000                0.000000   \nmax                 88.000000               12.000000   \n\n       Доля звонков на стационарные телефоны  Количество SMS за месяц  \ncount                            4291.000000              4291.000000  \nmean                               10.408763                18.767187  \nstd                                 9.258034                24.326434  \nmin                                 0.000000                 0.000000  \n25%                                 3.000000                 3.000000  \n50%                                 8.000000                 5.000000  \n75%                                16.000000                30.000000  \nmax                                60.000000               179.000000  ",
      "text/html": "<div>\n<style scoped>\n    .dataframe tbody tr th:only-of-type {\n        vertical-align: middle;\n    }\n\n    .dataframe tbody tr th {\n        vertical-align: top;\n    }\n\n    .dataframe thead th {\n        text-align: right;\n    }\n</style>\n<table border=\"1\" class=\"dataframe\">\n  <thead>\n    <tr style=\"text-align: right;\">\n      <th></th>\n      <th>Id</th>\n      <th>Код</th>\n      <th>Возраст</th>\n      <th>Среднемесячный расход</th>\n      <th>Средняя продолжительность разговоров</th>\n      <th>Звонков днем за месяц</th>\n      <th>Звонков вечером за месяц</th>\n      <th>Звонков ночью за месяц</th>\n      <th>Звонки в другие города</th>\n      <th>Звонки в другие страны</th>\n      <th>Доля звонков на стационарные телефоны</th>\n      <th>Количество SMS за месяц</th>\n    </tr>\n  </thead>\n  <tbody>\n    <tr>\n      <th>count</th>\n      <td>4291.000000</td>\n      <td>4291.000000</td>\n      <td>4291.00000</td>\n      <td>4291.000000</td>\n      <td>4291.000000</td>\n      <td>4291.000000</td>\n      <td>4291.000000</td>\n      <td>4291.000000</td>\n      <td>4291.000000</td>\n      <td>4291.000000</td>\n      <td>4291.000000</td>\n      <td>4291.000000</td>\n    </tr>\n    <tr>\n      <th>mean</th>\n      <td>2245.500117</td>\n      <td>2294.633419</td>\n      <td>42.40247</td>\n      <td>482.358730</td>\n      <td>4.091599</td>\n      <td>61.758098</td>\n      <td>68.935912</td>\n      <td>4.637148</td>\n      <td>8.467723</td>\n      <td>0.382195</td>\n      <td>10.408763</td>\n      <td>18.767187</td>\n    </tr>\n    <tr>\n      <th>std</th>\n      <td>1298.521946</td>\n      <td>1326.912675</td>\n      <td>13.03878</td>\n      <td>637.367273</td>\n      <td>2.902686</td>\n      <td>61.526928</td>\n      <td>40.960807</td>\n      <td>11.228814</td>\n      <td>13.409389</td>\n      <td>1.138764</td>\n      <td>9.258034</td>\n      <td>24.326434</td>\n    </tr>\n    <tr>\n      <th>min</th>\n      <td>0.000000</td>\n      <td>0.000000</td>\n      <td>19.00000</td>\n      <td>3.180000</td>\n      <td>0.100000</td>\n      <td>1.000000</td>\n      <td>1.000000</td>\n      <td>0.000000</td>\n      <td>0.000000</td>\n      <td>0.000000</td>\n      <td>0.000000</td>\n      <td>0.000000</td>\n    </tr>\n    <tr>\n      <th>25%</th>\n      <td>1121.500000</td>\n      <td>1146.500000</td>\n      <td>32.00000</td>\n      <td>147.270000</td>\n      <td>2.000000</td>\n      <td>36.000000</td>\n      <td>41.000000</td>\n      <td>0.000000</td>\n      <td>0.000000</td>\n      <td>0.000000</td>\n      <td>3.000000</td>\n      <td>3.000000</td>\n    </tr>\n    <tr>\n      <th>50%</th>\n      <td>2242.000000</td>\n      <td>2293.000000</td>\n      <td>43.00000</td>\n      <td>306.300000</td>\n      <td>3.200000</td>\n      <td>53.000000</td>\n      <td>70.000000</td>\n      <td>1.000000</td>\n      <td>1.000000</td>\n      <td>0.000000</td>\n      <td>8.000000</td>\n      <td>5.000000</td>\n    </tr>\n    <tr>\n      <th>75%</th>\n      <td>3372.500000</td>\n      <td>3447.500000</td>\n      <td>53.00000</td>\n      <td>568.355000</td>\n      <td>5.600000</td>\n      <td>67.000000</td>\n      <td>96.000000</td>\n      <td>4.000000</td>\n      <td>11.000000</td>\n      <td>0.000000</td>\n      <td>16.000000</td>\n      <td>30.000000</td>\n    </tr>\n    <tr>\n      <th>max</th>\n      <td>4491.000000</td>\n      <td>4590.000000</td>\n      <td>70.00000</td>\n      <td>5142.760000</td>\n      <td>20.000000</td>\n      <td>500.000000</td>\n      <td>160.000000</td>\n      <td>109.000000</td>\n      <td>88.000000</td>\n      <td>12.000000</td>\n      <td>60.000000</td>\n      <td>179.000000</td>\n    </tr>\n  </tbody>\n</table>\n</div>"
     },
     "execution_count": 23,
     "metadata": {},
     "output_type": "execute_result"
    }
   ],
   "source": [
    "import numpy as np\n",
    "import pandas as pd\n",
    "\n",
    "dataset = pd.read_csv('resources/new_mobile.csv', sep=',')\n",
    "dataset.describe()"
   ]
  },
  {
   "cell_type": "code",
   "execution_count": 24,
   "outputs": [
    {
     "data": {
      "text/plain": "[]"
     },
     "execution_count": 24,
     "metadata": {},
     "output_type": "execute_result"
    }
   ],
   "source": [
    "# выберема категориальные переменные - их нет\n",
    "from sklearn.compose import make_column_selector\n",
    "\n",
    "categorical_selector = make_column_selector(dtype_include=[object])\n",
    "categorical_columns = categorical_selector(dataset)\n",
    "categorical_columns"
   ],
   "metadata": {
    "collapsed": false
   }
  },
  {
   "cell_type": "code",
   "execution_count": 25,
   "outputs": [
    {
     "data": {
      "text/plain": "['Id',\n 'Код',\n 'Возраст',\n 'Среднемесячный расход',\n 'Средняя продолжительность разговоров',\n 'Звонков днем за месяц',\n 'Звонков вечером за месяц',\n 'Звонков ночью за месяц',\n 'Звонки в другие города',\n 'Звонки в другие страны',\n 'Доля звонков на стационарные телефоны',\n 'Количество SMS за месяц']"
     },
     "execution_count": 25,
     "metadata": {},
     "output_type": "execute_result"
    }
   ],
   "source": [
    "# выберем численные показатели - это все показатели\n",
    "categorical_selector = make_column_selector(dtype_include=[np.float_, np.int_, int, float])\n",
    "numeric_columns = categorical_selector(dataset)\n",
    "numeric_columns"
   ],
   "metadata": {
    "collapsed": false
   }
  },
  {
   "cell_type": "code",
   "execution_count": 26,
   "outputs": [
    {
     "data": {
      "text/plain": "                Id          Код      Возраст  Среднемесячный расход  \\\ncount  4291.000000  4291.000000  4291.000000            4291.000000   \nmean   2245.500117  2294.633419     0.605750               0.093794   \nstd    1298.521946  1326.912675     0.186268               0.123935   \nmin       0.000000     0.000000     0.271429               0.000618   \n25%    1121.500000  1146.500000     0.457143               0.028636   \n50%    2242.000000  2293.000000     0.614286               0.059559   \n75%    3372.500000  3447.500000     0.757143               0.110516   \nmax    4491.000000  4590.000000     1.000000               1.000000   \n\n       Средняя продолжительность разговоров  Звонков днем за месяц  \\\ncount                           4291.000000            4291.000000   \nmean                               0.204580               0.123516   \nstd                                0.145134               0.123054   \nmin                                0.005000               0.002000   \n25%                                0.100000               0.072000   \n50%                                0.160000               0.106000   \n75%                                0.280000               0.134000   \nmax                                1.000000               1.000000   \n\n       Звонков вечером за месяц  Звонков ночью за месяц  \\\ncount               4291.000000             4291.000000   \nmean                   0.430849                0.042543   \nstd                    0.256005                0.103017   \nmin                    0.006250                0.000000   \n25%                    0.256250                0.000000   \n50%                    0.437500                0.009174   \n75%                    0.600000                0.036697   \nmax                    1.000000                1.000000   \n\n       Звонки в другие города  Звонки в другие страны  \\\ncount             4291.000000             4291.000000   \nmean                 0.096224                0.031850   \nstd                  0.152379                0.094897   \nmin                  0.000000                0.000000   \n25%                  0.000000                0.000000   \n50%                  0.011364                0.000000   \n75%                  0.125000                0.000000   \nmax                  1.000000                1.000000   \n\n       Доля звонков на стационарные телефоны  Количество SMS за месяц  \ncount                            4291.000000              4291.000000  \nmean                                0.173479                 0.104845  \nstd                                 0.154301                 0.135902  \nmin                                 0.000000                 0.000000  \n25%                                 0.050000                 0.016760  \n50%                                 0.133333                 0.027933  \n75%                                 0.266667                 0.167598  \nmax                                 1.000000                 1.000000  ",
      "text/html": "<div>\n<style scoped>\n    .dataframe tbody tr th:only-of-type {\n        vertical-align: middle;\n    }\n\n    .dataframe tbody tr th {\n        vertical-align: top;\n    }\n\n    .dataframe thead th {\n        text-align: right;\n    }\n</style>\n<table border=\"1\" class=\"dataframe\">\n  <thead>\n    <tr style=\"text-align: right;\">\n      <th></th>\n      <th>Id</th>\n      <th>Код</th>\n      <th>Возраст</th>\n      <th>Среднемесячный расход</th>\n      <th>Средняя продолжительность разговоров</th>\n      <th>Звонков днем за месяц</th>\n      <th>Звонков вечером за месяц</th>\n      <th>Звонков ночью за месяц</th>\n      <th>Звонки в другие города</th>\n      <th>Звонки в другие страны</th>\n      <th>Доля звонков на стационарные телефоны</th>\n      <th>Количество SMS за месяц</th>\n    </tr>\n  </thead>\n  <tbody>\n    <tr>\n      <th>count</th>\n      <td>4291.000000</td>\n      <td>4291.000000</td>\n      <td>4291.000000</td>\n      <td>4291.000000</td>\n      <td>4291.000000</td>\n      <td>4291.000000</td>\n      <td>4291.000000</td>\n      <td>4291.000000</td>\n      <td>4291.000000</td>\n      <td>4291.000000</td>\n      <td>4291.000000</td>\n      <td>4291.000000</td>\n    </tr>\n    <tr>\n      <th>mean</th>\n      <td>2245.500117</td>\n      <td>2294.633419</td>\n      <td>0.605750</td>\n      <td>0.093794</td>\n      <td>0.204580</td>\n      <td>0.123516</td>\n      <td>0.430849</td>\n      <td>0.042543</td>\n      <td>0.096224</td>\n      <td>0.031850</td>\n      <td>0.173479</td>\n      <td>0.104845</td>\n    </tr>\n    <tr>\n      <th>std</th>\n      <td>1298.521946</td>\n      <td>1326.912675</td>\n      <td>0.186268</td>\n      <td>0.123935</td>\n      <td>0.145134</td>\n      <td>0.123054</td>\n      <td>0.256005</td>\n      <td>0.103017</td>\n      <td>0.152379</td>\n      <td>0.094897</td>\n      <td>0.154301</td>\n      <td>0.135902</td>\n    </tr>\n    <tr>\n      <th>min</th>\n      <td>0.000000</td>\n      <td>0.000000</td>\n      <td>0.271429</td>\n      <td>0.000618</td>\n      <td>0.005000</td>\n      <td>0.002000</td>\n      <td>0.006250</td>\n      <td>0.000000</td>\n      <td>0.000000</td>\n      <td>0.000000</td>\n      <td>0.000000</td>\n      <td>0.000000</td>\n    </tr>\n    <tr>\n      <th>25%</th>\n      <td>1121.500000</td>\n      <td>1146.500000</td>\n      <td>0.457143</td>\n      <td>0.028636</td>\n      <td>0.100000</td>\n      <td>0.072000</td>\n      <td>0.256250</td>\n      <td>0.000000</td>\n      <td>0.000000</td>\n      <td>0.000000</td>\n      <td>0.050000</td>\n      <td>0.016760</td>\n    </tr>\n    <tr>\n      <th>50%</th>\n      <td>2242.000000</td>\n      <td>2293.000000</td>\n      <td>0.614286</td>\n      <td>0.059559</td>\n      <td>0.160000</td>\n      <td>0.106000</td>\n      <td>0.437500</td>\n      <td>0.009174</td>\n      <td>0.011364</td>\n      <td>0.000000</td>\n      <td>0.133333</td>\n      <td>0.027933</td>\n    </tr>\n    <tr>\n      <th>75%</th>\n      <td>3372.500000</td>\n      <td>3447.500000</td>\n      <td>0.757143</td>\n      <td>0.110516</td>\n      <td>0.280000</td>\n      <td>0.134000</td>\n      <td>0.600000</td>\n      <td>0.036697</td>\n      <td>0.125000</td>\n      <td>0.000000</td>\n      <td>0.266667</td>\n      <td>0.167598</td>\n    </tr>\n    <tr>\n      <th>max</th>\n      <td>4491.000000</td>\n      <td>4590.000000</td>\n      <td>1.000000</td>\n      <td>1.000000</td>\n      <td>1.000000</td>\n      <td>1.000000</td>\n      <td>1.000000</td>\n      <td>1.000000</td>\n      <td>1.000000</td>\n      <td>1.000000</td>\n      <td>1.000000</td>\n      <td>1.000000</td>\n    </tr>\n  </tbody>\n</table>\n</div>"
     },
     "execution_count": 26,
     "metadata": {},
     "output_type": "execute_result"
    }
   ],
   "source": [
    "from sklearn.preprocessing import MaxAbsScaler\n",
    "\n",
    "# каждую колонку прогоняем через скейлер и присваеваем в текущий датасет\n",
    "columns = dataset.columns.drop(labels=['Id', 'Код'])\n",
    "scaler = MaxAbsScaler()\n",
    "for column in columns:\n",
    "    feature_seria = dataset[[column]]\n",
    "    new_feature_seria = scaler.fit_transform(feature_seria)\n",
    "    dataset[[column]] = new_feature_seria\n",
    "\n",
    "dataset.describe()"
   ],
   "metadata": {
    "collapsed": false
   }
  },
  {
   "cell_type": "code",
   "execution_count": 27,
   "outputs": [],
   "source": [
    "# сохраняем результат в новый файл\n",
    "dataset.to_csv('resources/total_mobile.csv', index=False)"
   ],
   "metadata": {
    "collapsed": false
   }
  }
 ],
 "metadata": {
  "kernelspec": {
   "display_name": "Python 3",
   "language": "python",
   "name": "python3"
  },
  "language_info": {
   "codemirror_mode": {
    "name": "ipython",
    "version": 2
   },
   "file_extension": ".py",
   "mimetype": "text/x-python",
   "name": "python",
   "nbconvert_exporter": "python",
   "pygments_lexer": "ipython2",
   "version": "2.7.6"
  }
 },
 "nbformat": 4,
 "nbformat_minor": 0
}
