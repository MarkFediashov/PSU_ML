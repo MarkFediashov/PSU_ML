{
 "cells": [
  {
   "cell_type": "code",
   "execution_count": 1,
   "metadata": {
    "collapsed": true
   },
   "outputs": [],
   "source": [
    "import pandas as pd\n",
    "\n",
    "dataset = pd.read_csv('resources/mobile.csv', encoding='windows-1251', sep='\\t')"
   ]
  },
  {
   "cell_type": "code",
   "execution_count": 27,
   "outputs": [],
   "source": [
    "import numpy as np\n",
    "columns = dataset.columns.drop(['Код'])\n",
    "index_ejection_count_map = {}\n",
    "for col_name in columns:\n",
    "    col = dataset[col_name]\n",
    "    m = np.mean(col)\n",
    "    std = np.std(col)\n",
    "    left = m - 2.698 * std\n",
    "    right = m + 2.698 * std\n",
    "\n",
    "    fail_index = col[(col<left)|(col>right)].index\n",
    "    for i in fail_index:\n",
    "        if index_ejection_count_map.get(i) is None:\n",
    "            index_ejection_count_map[i] = 1\n",
    "        else:\n",
    "            index_ejection_count_map[i] += 1\n"
   ],
   "metadata": {
    "collapsed": false
   }
  },
  {
   "cell_type": "code",
   "execution_count": 38,
   "outputs": [
    {
     "name": "stdout",
     "output_type": "stream",
     "text": [
      "Все с выбросами: 446\n",
      "Единичные выбросы: 201\n",
      "Множественные выбросы: 245\n"
     ]
    }
   ],
   "source": [
    "all_count = len(index_ejection_count_map)\n",
    "ones = len([k for k, v in index_ejection_count_map.items() if v == 1])\n",
    "two_and_mode = all_count - ones\n",
    "print(f'Все с выбросами: {all_count}\\nЕдиничные выбросы: {ones}\\nМножественные выбросы: {two_and_mode}')"
   ],
   "metadata": {
    "collapsed": false
   }
  },
  {
   "cell_type": "code",
   "execution_count": 39,
   "outputs": [],
   "source": [
    "new_dataset = dataset.drop(index=[k for k, v in index_ejection_count_map.items() if v == 1])\n",
    "new_dataset.to_csv('resources/new_mobile.csv')"
   ],
   "metadata": {
    "collapsed": false
   }
  }
 ],
 "metadata": {
  "kernelspec": {
   "display_name": "Python 3",
   "language": "python",
   "name": "python3"
  },
  "language_info": {
   "codemirror_mode": {
    "name": "ipython",
    "version": 2
   },
   "file_extension": ".py",
   "mimetype": "text/x-python",
   "name": "python",
   "nbconvert_exporter": "python",
   "pygments_lexer": "ipython2",
   "version": "2.7.6"
  }
 },
 "nbformat": 4,
 "nbformat_minor": 0
}
