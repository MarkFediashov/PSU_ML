{
 "cells": [
  {
   "cell_type": "code",
   "execution_count": 88,
   "metadata": {
    "collapsed": true
   },
   "outputs": [
    {
     "data": {
      "text/plain": "      Среднемесячный расход  Категория цены\n0                    121.54               0\n1                    287.51               0\n2                    113.70               0\n3                    410.23               1\n4                    537.60               1\n...                     ...             ...\n4286                 186.20               0\n4287                 500.68               1\n4288                 470.42               1\n4289                 858.99               2\n4290                 151.92               0\n\n[4291 rows x 2 columns]",
      "text/html": "<div>\n<style scoped>\n    .dataframe tbody tr th:only-of-type {\n        vertical-align: middle;\n    }\n\n    .dataframe tbody tr th {\n        vertical-align: top;\n    }\n\n    .dataframe thead th {\n        text-align: right;\n    }\n</style>\n<table border=\"1\" class=\"dataframe\">\n  <thead>\n    <tr style=\"text-align: right;\">\n      <th></th>\n      <th>Среднемесячный расход</th>\n      <th>Категория цены</th>\n    </tr>\n  </thead>\n  <tbody>\n    <tr>\n      <th>0</th>\n      <td>121.54</td>\n      <td>0</td>\n    </tr>\n    <tr>\n      <th>1</th>\n      <td>287.51</td>\n      <td>0</td>\n    </tr>\n    <tr>\n      <th>2</th>\n      <td>113.70</td>\n      <td>0</td>\n    </tr>\n    <tr>\n      <th>3</th>\n      <td>410.23</td>\n      <td>1</td>\n    </tr>\n    <tr>\n      <th>4</th>\n      <td>537.60</td>\n      <td>1</td>\n    </tr>\n    <tr>\n      <th>...</th>\n      <td>...</td>\n      <td>...</td>\n    </tr>\n    <tr>\n      <th>4286</th>\n      <td>186.20</td>\n      <td>0</td>\n    </tr>\n    <tr>\n      <th>4287</th>\n      <td>500.68</td>\n      <td>1</td>\n    </tr>\n    <tr>\n      <th>4288</th>\n      <td>470.42</td>\n      <td>1</td>\n    </tr>\n    <tr>\n      <th>4289</th>\n      <td>858.99</td>\n      <td>2</td>\n    </tr>\n    <tr>\n      <th>4290</th>\n      <td>151.92</td>\n      <td>0</td>\n    </tr>\n  </tbody>\n</table>\n<p>4291 rows × 2 columns</p>\n</div>"
     },
     "execution_count": 88,
     "metadata": {},
     "output_type": "execute_result"
    }
   ],
   "source": [
    "import numpy as np\n",
    "import pandas as pd\n",
    "\n",
    "# нужно разбить цены на данные классы - тут мы разбиваем (гы)\n",
    "classes =  [(0, 400),\n",
    "            (400, 800),\n",
    "            (800, 6000)]\n",
    "\n",
    "dataset = pd.read_csv('resources/new_mobile.csv', sep=',')\n",
    "price = dataset[['Среднемесячный расход']]\n",
    "categories = []\n",
    "doneFlag = False\n",
    "for _, x in price.iterrows():\n",
    "    for i, c in enumerate(classes):\n",
    "\n",
    "        if c[0] <= x['Среднемесячный расход'] < c[1]:\n",
    "            categories.append(i)\n",
    "            breakFlag = True\n",
    "            break\n",
    "\n",
    "    if doneFlag:\n",
    "        continue\n",
    "dataset['Категория цены'] = categories\n",
    "dataset[['Среднемесячный расход', 'Категория цены']]"
   ]
  },
  {
   "cell_type": "code",
   "execution_count": 89,
   "outputs": [
    {
     "data": {
      "text/plain": "Index(['Id', 'Код', 'Возраст', 'Среднемесячный расход',\n       'Средняя продолжительность разговоров', 'Звонков днем за месяц',\n       'Звонков вечером за месяц', 'Звонков ночью за месяц',\n       'Звонки в другие города', 'Звонки в другие страны',\n       'Доля звонков на стационарные телефоны', 'Количество SMS за месяц',\n       'Категория цены'],\n      dtype='object')"
     },
     "execution_count": 89,
     "metadata": {},
     "output_type": "execute_result"
    }
   ],
   "source": [
    "dataset.columns"
   ],
   "metadata": {
    "collapsed": false
   }
  },
  {
   "cell_type": "code",
   "execution_count": 90,
   "outputs": [],
   "source": [
    "# берём только те колонки которые извлекли в 4 лабе\n",
    "dataset = dataset[['Средняя продолжительность разговоров', 'Звонков днем за месяц',\n",
    "       'Звонков вечером за месяц', 'Звонков ночью за месяц',\n",
    "       'Звонки в другие страны', 'Категория цены']]"
   ],
   "metadata": {
    "collapsed": false
   }
  },
  {
   "cell_type": "code",
   "execution_count": 91,
   "outputs": [
    {
     "data": {
      "text/plain": "((2574, 5), (2574, 1), (1717, 5), (1717, 1))"
     },
     "execution_count": 91,
     "metadata": {},
     "output_type": "execute_result"
    }
   ],
   "source": [
    "# разбиваем датасет на train/test\n",
    "from sklearn.model_selection import train_test_split\n",
    "from sklearn.linear_model import LinearRegression\n",
    "\n",
    "X = dataset[['Средняя продолжительность разговоров', 'Звонков днем за месяц',\n",
    "       'Звонков вечером за месяц', 'Звонков ночью за месяц',\n",
    "       'Звонки в другие страны']]\n",
    "y = dataset[['Категория цены']]\n",
    "\n",
    "X_train, X_test, y_train, y_test = train_test_split(X, y, test_size=0.4)\n",
    "X_train.shape, y_train.shape, X_test.shape, y_test.shape"
   ],
   "metadata": {
    "collapsed": false
   }
  },
  {
   "cell_type": "code",
   "execution_count": 92,
   "outputs": [
    {
     "name": "stdout",
     "output_type": "stream",
     "text": [
      "Обученные параметры: \n",
      "Смещение b=[-0.5500466] \n",
      "Множители a=  [[ 0.18381182  0.00107969  0.00387994 -0.00058106 -0.01287637]]\n"
     ]
    }
   ],
   "source": [
    "lin_clf = LinearRegression() # создаем модель линейной регресии\n",
    "lin_clf = lin_clf.fit(X_train, y_train) # обучаем ее\n",
    "print(f'Обученные параметры: \\nСмещение b={lin_clf.intercept_} ')\n",
    "print('Множители a= ',lin_clf.coef_)"
   ],
   "metadata": {
    "collapsed": false
   }
  },
  {
   "cell_type": "code",
   "execution_count": 93,
   "outputs": [
    {
     "name": "stdout",
     "output_type": "stream",
     "text": [
      "0.750955607285321\n"
     ]
    }
   ],
   "source": [
    "y_predicted = lin_clf.predict(X_test) # рассчитываем выходы модели на тестовых данных\n",
    "score=lin_clf.score(X_test, y_test) # считаем ошибку\n",
    "print(score)"
   ],
   "metadata": {
    "collapsed": false
   }
  },
  {
   "cell_type": "code",
   "execution_count": 94,
   "outputs": [
    {
     "data": {
      "text/plain": "Категория цены    0.868957\ndtype: float64"
     },
     "execution_count": 94,
     "metadata": {},
     "output_type": "execute_result"
    }
   ],
   "source": [
    "y_pred_class=np.rint(y_predicted)\n",
    "y_pred_class[y_pred_class>2]=2\n",
    "y_pred_class[y_pred_class<1]=0\n",
    "y_pred_class=y_pred_class.astype(int)\n",
    "score=np.sum(y_pred_class==y_test) / len(y_test)\n",
    "score"
   ],
   "metadata": {
    "collapsed": false
   }
  },
  {
   "cell_type": "code",
   "execution_count": 95,
   "outputs": [
    {
     "name": "stdout",
     "output_type": "stream",
     "text": [
      "              precision    recall  f1-score   support\n",
      "\n",
      "           0       0.97      0.97      0.97      1040\n",
      "           1       0.91      0.91      0.91       425\n",
      "           2       0.96      0.95      0.95       252\n",
      "\n",
      "    accuracy                           0.96      1717\n",
      "   macro avg       0.95      0.95      0.95      1717\n",
      "weighted avg       0.96      0.96      0.96      1717\n",
      "\n"
     ]
    }
   ],
   "source": [
    "from sklearn.linear_model import LogisticRegression\n",
    "from sklearn import metrics\n",
    "\n",
    "model = LogisticRegression(solver='newton-cg', max_iter=4500)\n",
    "model = model.fit(X_train, y_train.values.ravel())\n",
    "score = model.predict(X_test)\n",
    "\n",
    "print(metrics.classification_report(y_test, score))"
   ],
   "metadata": {
    "collapsed": false
   }
  },
  {
   "cell_type": "code",
   "execution_count": 96,
   "outputs": [
    {
     "data": {
      "text/plain": "Text(0.5, 1.1, 'Confusion matrix Logistic Regression')"
     },
     "execution_count": 96,
     "metadata": {},
     "output_type": "execute_result"
    },
    {
     "data": {
      "text/plain": "<Figure size 600x600 with 2 Axes>",
      "image/png": "[encoded data removed]"
     },
     "metadata": {},
     "output_type": "display_data"
    }
   ],
   "source": [
    "from sklearn.metrics import confusion_matrix\n",
    "import matplotlib.pyplot as plt\n",
    "import seaborn as sns\n",
    "\n",
    "fig = plt.figure(figsize = (6,6))\n",
    "ax = fig.gca()\n",
    "# матрица неточности\n",
    "\n",
    "cnf_matrix_log = confusion_matrix(y_test, score)\n",
    "\n",
    "sns.heatmap(pd.DataFrame(cnf_matrix_log), annot=True,cmap=\"Reds\" , fmt='g')\n",
    "ax.xaxis.set_label_position(\"top\")\n",
    "plt.tight_layout()\n",
    "plt.title('Confusion matrix Logistic Regression', y=1.1)"
   ],
   "metadata": {
    "collapsed": false
   }
  }
 ],
 "metadata": {
  "kernelspec": {
   "display_name": "Python 3",
   "language": "python",
   "name": "python3"
  },
  "language_info": {
   "codemirror_mode": {
    "name": "ipython",
    "version": 2
   },
   "file_extension": ".py",
   "mimetype": "text/x-python",
   "name": "python",
   "nbconvert_exporter": "python",
   "pygments_lexer": "ipython2",
   "version": "2.7.6"
  }
 },
 "nbformat": 4,
 "nbformat_minor": 0
}
