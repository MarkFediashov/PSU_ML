{
 "cells": [
  {
   "cell_type": "code",
   "execution_count": 151,
   "metadata": {
    "collapsed": true
   },
   "outputs": [],
   "source": [
    "import pandas as pd\n",
    "\n",
    "dataset = pd.read_csv('resources/total_mobile.csv')"
   ]
  },
  {
   "cell_type": "code",
   "execution_count": 129,
   "outputs": [],
   "source": [
    "# numpy, matplotlib, seaborn\n",
    "import numpy as np\n",
    "import matplotlib.pyplot as plt\n",
    "from matplotlib.colors import ListedColormap\n",
    "import seaborn as sns\n",
    "sns.set_style('whitegrid')\n",
    "%matplotlib inline\n",
    "\n",
    "# sklearn\n",
    "from sklearn import datasets\n",
    "from sklearn.linear_model import Perceptron\n",
    "from sklearn.neural_network import MLPClassifier\n",
    "from sklearn.model_selection import train_test_split\n",
    "from sklearn.preprocessing import StandardScaler\n",
    "from sklearn.metrics import accuracy_score\n",
    "from sklearn.metrics import confusion_matrix"
   ],
   "metadata": {
    "collapsed": false
   }
  },
  {
   "cell_type": "code",
   "execution_count": 152,
   "outputs": [],
   "source": [
    "# нужно разбить цены на данные классы - тут мы разбиваем (гы)\n",
    "classes =  [(0, 0.0972),\n",
    "            (0.0972, 1.01)]\n",
    "\n",
    "\n",
    "price = dataset[['Среднемесячный расход']]\n",
    "categories = []\n",
    "doneFlag = False\n",
    "for _, x in price.iterrows():\n",
    "    for i, c in enumerate(classes):\n",
    "\n",
    "        if c[0] <= x['Среднемесячный расход'] < c[1]:\n",
    "            categories.append(i)\n",
    "            breakFlag = True\n",
    "            break\n",
    "\n",
    "    if doneFlag:\n",
    "        continue\n",
    "dataset['Категория цены'] = categories\n",
    "# берём только те колонки которые извлекли в 4 лабе\n",
    "dataset = dataset[['Средняя продолжительность разговоров', 'Звонков днем за месяц',\n",
    "       'Звонков вечером за месяц', 'Звонков ночью за месяц',\n",
    "       'Звонки в другие страны', 'Категория цены']]"
   ],
   "metadata": {
    "collapsed": false
   }
  },
  {
   "cell_type": "code",
   "execution_count": 153,
   "outputs": [],
   "source": [
    "X = dataset[dataset.columns.drop(labels='Категория цены')]\n",
    "y = dataset['Категория цены']"
   ],
   "metadata": {
    "collapsed": false
   }
  },
  {
   "cell_type": "code",
   "execution_count": 154,
   "outputs": [],
   "source": [
    "X_train, X_test, y_train, y_test = train_test_split(X, y, test_size = 0.3, random_state = 0)"
   ],
   "metadata": {
    "collapsed": false
   }
  },
  {
   "cell_type": "code",
   "execution_count": 155,
   "outputs": [
    {
     "name": "stdout",
     "output_type": "stream",
     "text": [
      "Iteration 1, loss = 0.65555570\n",
      "Iteration 2, loss = 0.62420546\n",
      "Iteration 3, loss = 0.59861959\n",
      "Iteration 4, loss = 0.57294395\n",
      "Iteration 5, loss = 0.54764776\n",
      "Iteration 6, loss = 0.52091908\n",
      "Iteration 7, loss = 0.49277184\n",
      "Iteration 8, loss = 0.46697317\n",
      "Iteration 9, loss = 0.44504980\n",
      "Iteration 10, loss = 0.42418339\n",
      "Iteration 11, loss = 0.40502855\n",
      "Iteration 12, loss = 0.38656083\n",
      "Iteration 13, loss = 0.36964913\n",
      "Iteration 14, loss = 0.35344820\n",
      "Iteration 15, loss = 0.33835524\n",
      "Iteration 16, loss = 0.32630112\n",
      "Iteration 17, loss = 0.31117320\n",
      "Iteration 18, loss = 0.29962444\n",
      "Iteration 19, loss = 0.28956789\n",
      "Iteration 20, loss = 0.27808186\n",
      "Iteration 21, loss = 0.26813245\n",
      "Iteration 22, loss = 0.25919775\n",
      "Iteration 23, loss = 0.25105414\n",
      "Iteration 24, loss = 0.24271340\n",
      "Iteration 25, loss = 0.23520217\n",
      "Iteration 26, loss = 0.22801581\n",
      "Iteration 27, loss = 0.22092695\n",
      "Iteration 28, loss = 0.21430929\n",
      "Iteration 29, loss = 0.20838155\n",
      "Iteration 30, loss = 0.20266801\n",
      "Iteration 31, loss = 0.19851076\n",
      "Iteration 32, loss = 0.19260603\n",
      "Iteration 33, loss = 0.18796619\n",
      "Iteration 34, loss = 0.18356673\n",
      "Iteration 35, loss = 0.17926881\n",
      "Iteration 36, loss = 0.17613993\n",
      "Iteration 37, loss = 0.17464195\n",
      "Iteration 38, loss = 0.16911529\n",
      "Iteration 39, loss = 0.16608191\n",
      "Iteration 40, loss = 0.16316184\n",
      "Iteration 41, loss = 0.16047219\n",
      "Iteration 42, loss = 0.15783912\n",
      "Iteration 43, loss = 0.15754471\n",
      "Iteration 44, loss = 0.15407973\n",
      "Iteration 45, loss = 0.15144098\n",
      "Iteration 46, loss = 0.14887696\n",
      "Iteration 47, loss = 0.14663554\n",
      "Iteration 48, loss = 0.14535564\n",
      "Iteration 49, loss = 0.14534256\n",
      "Iteration 50, loss = 0.14188388\n",
      "Iteration 51, loss = 0.14004429\n",
      "Iteration 52, loss = 0.13815168\n",
      "Iteration 53, loss = 0.13648719\n",
      "Iteration 54, loss = 0.13639538\n",
      "Iteration 55, loss = 0.13383572\n",
      "Iteration 56, loss = 0.13240026\n",
      "Iteration 57, loss = 0.13201743\n",
      "Iteration 58, loss = 0.13387354\n",
      "Iteration 59, loss = 0.12955316\n",
      "Iteration 60, loss = 0.12978625\n",
      "Iteration 61, loss = 0.12851949\n",
      "Iteration 62, loss = 0.12648512\n",
      "Iteration 63, loss = 0.12503624\n",
      "Iteration 64, loss = 0.12370392\n",
      "Iteration 65, loss = 0.12265033\n",
      "Iteration 66, loss = 0.12224154\n",
      "Iteration 67, loss = 0.12087022\n",
      "Iteration 68, loss = 0.11994887\n",
      "Iteration 69, loss = 0.11989399\n",
      "Iteration 70, loss = 0.11934931\n",
      "Iteration 71, loss = 0.11768714\n",
      "Iteration 72, loss = 0.11676026\n",
      "Iteration 73, loss = 0.11698323\n",
      "Iteration 74, loss = 0.11514597\n",
      "Iteration 75, loss = 0.11532950\n",
      "Iteration 76, loss = 0.11487086\n",
      "Iteration 77, loss = 0.11447731\n",
      "Iteration 78, loss = 0.11431763\n",
      "Iteration 79, loss = 0.11235951\n",
      "Iteration 80, loss = 0.11112731\n",
      "Iteration 81, loss = 0.11137405\n",
      "Iteration 82, loss = 0.10948960\n",
      "Iteration 83, loss = 0.10944410\n",
      "Iteration 84, loss = 0.10952747\n",
      "Iteration 85, loss = 0.10807455\n",
      "Iteration 86, loss = 0.10758022\n",
      "Iteration 87, loss = 0.10716108\n",
      "Iteration 88, loss = 0.11139844\n",
      "Iteration 89, loss = 0.10656034\n",
      "Iteration 90, loss = 0.10564898\n",
      "Iteration 91, loss = 0.10628827\n",
      "Iteration 92, loss = 0.10488447\n",
      "Iteration 93, loss = 0.10373093\n",
      "Iteration 94, loss = 0.10580064\n",
      "Iteration 95, loss = 0.10401493\n",
      "Iteration 96, loss = 0.10277036\n",
      "Iteration 97, loss = 0.10418068\n",
      "Iteration 98, loss = 0.10171439\n",
      "Iteration 99, loss = 0.10162540\n",
      "Iteration 100, loss = 0.10093835\n",
      "Неверно классифицированные образцы: 39\n",
      "Точность: 0.97\n"
     ]
    },
    {
     "name": "stderr",
     "output_type": "stream",
     "text": [
      "C:\\Users\\User\\PycharmProjects\\ml_lab1\\venv\\lib\\site-packages\\sklearn\\neural_network\\_multilayer_perceptron.py:691: ConvergenceWarning: Stochastic Optimizer: Maximum iterations (100) reached and the optimization hasn't converged yet.\n",
      "  warnings.warn(\n"
     ]
    }
   ],
   "source": [
    "ppn =  MLPClassifier(max_iter=100, solver='adam', activation='relu', verbose=True)\n",
    "ppn.fit(X_train, y_train)\n",
    "y1 = ppn.predict(X_test)\n",
    "print('Неверно классифицированные образцы: %d' % (y_test != y1).sum())\n",
    "print('Точность: %.2f' % accuracy_score(y_test, y1))"
   ],
   "metadata": {
    "collapsed": false
   }
  },
  {
   "cell_type": "code",
   "execution_count": 156,
   "outputs": [
    {
     "data": {
      "text/plain": "Text(0.5, 1.1, 'Матрица неточности Персептрон\\n')"
     },
     "execution_count": 156,
     "metadata": {},
     "output_type": "execute_result"
    },
    {
     "data": {
      "text/plain": "<Figure size 640x480 with 2 Axes>",
      "image/png": "[encoded data removed]"
     },
     "metadata": {},
     "output_type": "display_data"
    }
   ],
   "source": [
    "cnf_matrix_log = confusion_matrix(y_test, y1)\n",
    "sns.heatmap(pd.DataFrame(cnf_matrix_log), annot=True,cmap=\"Reds\" , fmt='g')\n",
    "plt.tight_layout()\n",
    "plt.title('Матрица неточности Персептрон\\n', y=1.1)"
   ],
   "metadata": {
    "collapsed": false
   }
  },
  {
   "cell_type": "code",
   "execution_count": 157,
   "outputs": [
    {
     "data": {
      "text/plain": "      Среднемесячный расход  Категория цены\n0                    121.54               0\n1                    287.51               0\n2                    113.70               0\n3                    410.23               0\n4                    537.60               1\n...                     ...             ...\n4286                 186.20               0\n4287                 500.68               1\n4288                 470.42               0\n4289                 858.99               1\n4290                 151.92               0\n\n[4291 rows x 2 columns]",
      "text/html": "<div>\n<style scoped>\n    .dataframe tbody tr th:only-of-type {\n        vertical-align: middle;\n    }\n\n    .dataframe tbody tr th {\n        vertical-align: top;\n    }\n\n    .dataframe thead th {\n        text-align: right;\n    }\n</style>\n<table border=\"1\" class=\"dataframe\">\n  <thead>\n    <tr style=\"text-align: right;\">\n      <th></th>\n      <th>Среднемесячный расход</th>\n      <th>Категория цены</th>\n    </tr>\n  </thead>\n  <tbody>\n    <tr>\n      <th>0</th>\n      <td>121.54</td>\n      <td>0</td>\n    </tr>\n    <tr>\n      <th>1</th>\n      <td>287.51</td>\n      <td>0</td>\n    </tr>\n    <tr>\n      <th>2</th>\n      <td>113.70</td>\n      <td>0</td>\n    </tr>\n    <tr>\n      <th>3</th>\n      <td>410.23</td>\n      <td>0</td>\n    </tr>\n    <tr>\n      <th>4</th>\n      <td>537.60</td>\n      <td>1</td>\n    </tr>\n    <tr>\n      <th>...</th>\n      <td>...</td>\n      <td>...</td>\n    </tr>\n    <tr>\n      <th>4286</th>\n      <td>186.20</td>\n      <td>0</td>\n    </tr>\n    <tr>\n      <th>4287</th>\n      <td>500.68</td>\n      <td>1</td>\n    </tr>\n    <tr>\n      <th>4288</th>\n      <td>470.42</td>\n      <td>0</td>\n    </tr>\n    <tr>\n      <th>4289</th>\n      <td>858.99</td>\n      <td>1</td>\n    </tr>\n    <tr>\n      <th>4290</th>\n      <td>151.92</td>\n      <td>0</td>\n    </tr>\n  </tbody>\n</table>\n<p>4291 rows × 2 columns</p>\n</div>"
     },
     "execution_count": 157,
     "metadata": {},
     "output_type": "execute_result"
    }
   ],
   "source": [
    "import numpy as np\n",
    "import pandas as pd\n",
    "\n",
    "# нужно разбить цены на данные классы - тут мы разбиваем (гы)\n",
    "classes =  [(0, 500),\n",
    "            (500, 6000)]\n",
    "\n",
    "dataset = pd.read_csv('resources/new_mobile.csv', sep=',')\n",
    "price = dataset[['Среднемесячный расход']]\n",
    "categories = []\n",
    "doneFlag = False\n",
    "for _, x in price.iterrows():\n",
    "    for i, c in enumerate(classes):\n",
    "\n",
    "        if c[0] <= x['Среднемесячный расход'] < c[1]:\n",
    "            categories.append(i)\n",
    "            breakFlag = True\n",
    "            break\n",
    "\n",
    "    if doneFlag:\n",
    "        continue\n",
    "dataset['Категория цены'] = categories\n",
    "dataset[['Среднемесячный расход', 'Категория цены']]"
   ],
   "metadata": {
    "collapsed": false
   }
  },
  {
   "cell_type": "code",
   "execution_count": 158,
   "outputs": [
    {
     "data": {
      "text/plain": "((2574, 5), (2574,), (1717, 5), (1717,))"
     },
     "execution_count": 158,
     "metadata": {},
     "output_type": "execute_result"
    }
   ],
   "source": [
    "X = dataset[['Средняя продолжительность разговоров', 'Звонков днем за месяц',\n",
    "       'Звонков вечером за месяц', 'Звонков ночью за месяц',\n",
    "       'Звонки в другие страны']]\n",
    "y = dataset['Категория цены']\n",
    "\n",
    "X_train, X_test, y_train, y_test = train_test_split(X, y, test_size=0.4)\n",
    "X_train.shape, y_train.shape, X_test.shape, y_test.shape"
   ],
   "metadata": {
    "collapsed": false
   }
  },
  {
   "cell_type": "code",
   "execution_count": 159,
   "outputs": [
    {
     "name": "stdout",
     "output_type": "stream",
     "text": [
      "Iteration 1, loss = 0.95326708\n",
      "Iteration 2, loss = 0.66233399\n",
      "Iteration 3, loss = 0.60708566\n",
      "Iteration 4, loss = 0.58462029\n",
      "Iteration 5, loss = 0.54417644\n",
      "Iteration 6, loss = 0.52190873\n",
      "Iteration 7, loss = 0.50867610\n",
      "Iteration 8, loss = 0.48698165\n",
      "Iteration 9, loss = 0.47322808\n",
      "Iteration 10, loss = 0.45896067\n",
      "Iteration 11, loss = 0.44431490\n",
      "Iteration 12, loss = 0.43432379\n",
      "Iteration 13, loss = 0.42444171\n",
      "Iteration 14, loss = 0.40629216\n",
      "Iteration 15, loss = 0.39455931\n",
      "Iteration 16, loss = 0.38528771\n",
      "Iteration 17, loss = 0.38896544\n",
      "Iteration 18, loss = 0.37748893\n",
      "Iteration 19, loss = 0.36761594\n",
      "Iteration 20, loss = 0.36388777\n",
      "Iteration 21, loss = 0.35145130\n",
      "Iteration 22, loss = 0.33861531\n",
      "Iteration 23, loss = 0.33133426\n",
      "Iteration 24, loss = 0.32527575\n",
      "Iteration 25, loss = 0.31831829\n",
      "Iteration 26, loss = 0.31937772\n",
      "Iteration 27, loss = 0.30875707\n",
      "Iteration 28, loss = 0.30237957\n",
      "Iteration 29, loss = 0.29772131\n",
      "Iteration 30, loss = 0.29822473\n",
      "Iteration 31, loss = 0.28667554\n",
      "Iteration 32, loss = 0.28117690\n",
      "Iteration 33, loss = 0.27816821\n",
      "Iteration 34, loss = 0.27000984\n",
      "Iteration 35, loss = 0.26542668\n",
      "Iteration 36, loss = 0.26225370\n",
      "Iteration 37, loss = 0.25498398\n",
      "Iteration 38, loss = 0.25153554\n",
      "Iteration 39, loss = 0.24397525\n",
      "Iteration 40, loss = 0.23973350\n",
      "Iteration 41, loss = 0.23732456\n",
      "Iteration 42, loss = 0.23526501\n",
      "Iteration 43, loss = 0.23290083\n",
      "Iteration 44, loss = 0.22436204\n",
      "Iteration 45, loss = 0.21804375\n",
      "Iteration 46, loss = 0.21727275\n",
      "Iteration 47, loss = 0.21194646\n",
      "Iteration 48, loss = 0.21365600\n",
      "Iteration 49, loss = 0.20540651\n",
      "Iteration 50, loss = 0.20665867\n",
      "Iteration 51, loss = 0.20087902\n",
      "Iteration 52, loss = 0.19437211\n",
      "Iteration 53, loss = 0.19312110\n",
      "Iteration 54, loss = 0.18884078\n",
      "Iteration 55, loss = 0.18669298\n",
      "Iteration 56, loss = 0.18856042\n",
      "Iteration 57, loss = 0.18466439\n",
      "Iteration 58, loss = 0.17726048\n",
      "Iteration 59, loss = 0.17805474\n",
      "Iteration 60, loss = 0.17345916\n",
      "Iteration 61, loss = 0.17047830\n",
      "Iteration 62, loss = 0.16803255\n",
      "Iteration 63, loss = 0.16613161\n",
      "Iteration 64, loss = 0.16866025\n",
      "Iteration 65, loss = 0.16324876\n",
      "Iteration 66, loss = 0.16199776\n",
      "Iteration 67, loss = 0.15842548\n",
      "Iteration 68, loss = 0.15702745\n",
      "Iteration 69, loss = 0.15636233\n",
      "Iteration 70, loss = 0.15440105\n",
      "Iteration 71, loss = 0.15188536\n",
      "Iteration 72, loss = 0.15339388\n",
      "Iteration 73, loss = 0.14916250\n",
      "Iteration 74, loss = 0.14783094\n",
      "Iteration 75, loss = 0.14478331\n",
      "Iteration 76, loss = 0.15191048\n",
      "Iteration 77, loss = 0.14376770\n",
      "Iteration 78, loss = 0.14003657\n",
      "Iteration 79, loss = 0.14315968\n",
      "Iteration 80, loss = 0.14391798\n",
      "Iteration 81, loss = 0.13795726\n",
      "Iteration 82, loss = 0.13653564\n",
      "Iteration 83, loss = 0.13549450\n",
      "Iteration 84, loss = 0.13689820\n",
      "Iteration 85, loss = 0.13296248\n",
      "Iteration 86, loss = 0.14074785\n",
      "Iteration 87, loss = 0.14720029\n",
      "Iteration 88, loss = 0.13806795\n",
      "Iteration 89, loss = 0.13325672\n",
      "Iteration 90, loss = 0.12806082\n",
      "Iteration 91, loss = 0.12970293\n",
      "Iteration 92, loss = 0.13260161\n",
      "Iteration 93, loss = 0.13836859\n",
      "Iteration 94, loss = 0.12510811\n",
      "Iteration 95, loss = 0.12211197\n",
      "Iteration 96, loss = 0.11927820\n",
      "Iteration 97, loss = 0.11855988\n",
      "Iteration 98, loss = 0.11939565\n",
      "Iteration 99, loss = 0.11818565\n",
      "Iteration 100, loss = 0.11985621\n",
      "Неверно классифицированные образцы: 73\n",
      "Точность: 0.96\n"
     ]
    },
    {
     "name": "stderr",
     "output_type": "stream",
     "text": [
      "C:\\Users\\User\\PycharmProjects\\ml_lab1\\venv\\lib\\site-packages\\sklearn\\neural_network\\_multilayer_perceptron.py:691: ConvergenceWarning: Stochastic Optimizer: Maximum iterations (100) reached and the optimization hasn't converged yet.\n",
      "  warnings.warn(\n"
     ]
    }
   ],
   "source": [
    "ppn =  MLPClassifier(max_iter=100, solver='adam', activation='relu', verbose=True)\n",
    "ppn.fit(X_train, y_train)\n",
    "y1 = ppn.predict(X_test)\n",
    "print('Неверно классифицированные образцы: %d' % (y_test != y1).sum())\n",
    "print('Точность: %.2f' % accuracy_score(y_test, y1))"
   ],
   "metadata": {
    "collapsed": false
   }
  },
  {
   "cell_type": "code",
   "execution_count": 150,
   "outputs": [
    {
     "data": {
      "text/plain": "Text(0.5, 1.1, 'Матрица неточности Персептрон\\n')"
     },
     "execution_count": 150,
     "metadata": {},
     "output_type": "execute_result"
    },
    {
     "data": {
      "text/plain": "<Figure size 640x480 with 2 Axes>",
      "image/png": "[encoded data removed]"
     },
     "metadata": {},
     "output_type": "display_data"
    }
   ],
   "source": [
    "cnf_matrix_log = confusion_matrix(y_test, y1)\n",
    "sns.heatmap(pd.DataFrame(cnf_matrix_log), annot=True,cmap=\"Reds\" , fmt='g')\n",
    "plt.tight_layout()\n",
    "plt.title('Матрица неточности Персептрон\\n', y=1.1)"
   ],
   "metadata": {
    "collapsed": false
   }
  }
 ],
 "metadata": {
  "kernelspec": {
   "display_name": "Python 3",
   "language": "python",
   "name": "python3"
  },
  "language_info": {
   "codemirror_mode": {
    "name": "ipython",
    "version": 2
   },
   "file_extension": ".py",
   "mimetype": "text/x-python",
   "name": "python",
   "nbconvert_exporter": "python",
   "pygments_lexer": "ipython2",
   "version": "2.7.6"
  }
 },
 "nbformat": 4,
 "nbformat_minor": 0
}
